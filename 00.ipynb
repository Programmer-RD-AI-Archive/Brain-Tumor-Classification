{
 "cells": [
  {
   "cell_type": "code",
   "execution_count": 1,
   "id": "7630524c-8013-4a7c-9508-647922a5b123",
   "metadata": {},
   "outputs": [],
   "source": [
    "import wandb\n",
    "from sklearn.model_selection import train_test_split\n",
    "import os,cv2\n",
    "import numpy as np\n",
    "import matplotlib.pyplot as plt\n",
    "from torch.nn import *\n",
    "import torch,torchvision\n",
    "from tqdm import tqdm\n",
    "device = 'cuda'\n",
    "PROJECT_NAME = 'Brain-Tumor-Classification'"
   ]
  },
  {
   "cell_type": "code",
   "execution_count": 2,
   "id": "19a041f8-efd3-471d-893c-432555fa273c",
   "metadata": {},
   "outputs": [],
   "source": [
    "def load_data():\n",
    "    labels = {}\n",
    "    labels_r = {}\n",
    "    idx = -1\n",
    "    data = []\n",
    "    for folder in tqdm(os.listdir('./data/')):\n",
    "        idx += 1\n",
    "        labels[folder] = idx\n",
    "        labels_r[idx] = folder\n",
    "        for file in os.listdir(f'./data/{folder}/'):\n",
    "            img = cv2.imread(f'./data/{folder}/{file}')\n",
    "            img = cv2.resize(img,(112,112))/255.0\n",
    "            data.append([img,idx])\n",
    "    np.random.shuffle(data)\n",
    "    X = []\n",
    "    y = []\n",
    "    for d in data:\n",
    "        X.append(d[0])\n",
    "        y.append(d[1])\n",
    "    X_train,X_test,y_train,y_test = train_test_split(X,y,shuffle=False,test_size=0.0625)\n",
    "    return X_train,X_test,y_train,y_test,X,y,labels,labels_r,idx,data"
   ]
  },
  {
   "cell_type": "code",
   "execution_count": 3,
   "id": "3b68e1ec-b152-455b-8443-cf4cd518492a",
   "metadata": {},
   "outputs": [
    {
     "name": "stderr",
     "output_type": "stream",
     "text": [
      "100%|█████████████████████████████████████████████| 4/4 [00:05<00:00,  1.41s/it]\n"
     ]
    }
   ],
   "source": [
    "X_train,X_test,y_train,y_test,X,y,labels,labels_r,idx,data = load_data()"
   ]
  },
  {
   "cell_type": "code",
   "execution_count": 4,
   "id": "550cdfff-ad83-4428-b88a-0bca4fafae32",
   "metadata": {},
   "outputs": [],
   "source": [
    "X_train = torch.from_numpy(np.array(X_train)).view(-1,3,112,112).to(device).float()\n",
    "X_test = torch.from_numpy(np.array(X_test)).view(-1,3,112,112).to(device).float()\n",
    "y_train = torch.from_numpy(np.array(y_train)).to(device)\n",
    "y_test = torch.from_numpy(np.array(y_test)).to(device)"
   ]
  },
  {
   "cell_type": "code",
   "execution_count": 5,
   "id": "64fcee25-f5a4-45a6-9891-931bf4f8c3ea",
   "metadata": {},
   "outputs": [],
   "source": [
    "def get_loss(model,X,y,criterion):\n",
    "    preds = model(X)\n",
    "    loss = criterion(preds,y)\n",
    "    return loss.item()"
   ]
  },
  {
   "cell_type": "code",
   "execution_count": 6,
   "id": "ae76888d-481f-486d-b608-f21dfaaf177e",
   "metadata": {},
   "outputs": [],
   "source": [
    "def get_accuracy(model,X,y):\n",
    "    correct = 0\n",
    "    total = 0\n",
    "    preds = model(X)\n",
    "    for pred,y_batch in zip(preds,y):\n",
    "        pred = int(torch.argmax(pred))\n",
    "        if pred == y_batch:\n",
    "            correct += 1\n",
    "        total += 1\n",
    "    acc = round(correct/total,3)*100\n",
    "    return acc"
   ]
  },
  {
   "cell_type": "code",
   "execution_count": 7,
   "id": "c56bf6d3-7151-451f-8b6a-3f1621047789",
   "metadata": {},
   "outputs": [],
   "source": [
    "class Model(Module):\n",
    "    def __init__(self):\n",
    "        super().__init__()\n",
    "        self.max_pool2d = MaxPool2d((2,2),(2,2))\n",
    "        self.activation = ReLU()\n",
    "        self.conv1 = Conv2d(3,5,(3,3))\n",
    "        self.conv1batchnorm = BatchNorm2d(5)\n",
    "        self.conv2 = Conv2d(5,10,(3,3))\n",
    "        self.conv2batchnorm = BatchNorm2d(10)\n",
    "        self.conv3 = Conv2d(10,15,(3,3))\n",
    "        self.conv3batchnorm = BatchNorm2d(15)\n",
    "        self.conv4 = Conv2d(15,20,(3,3))\n",
    "        self.conv4batchnorm = BatchNorm2d(20)\n",
    "        self.linear1 = Linear(20*5*5,512)\n",
    "        self.linear1batchnorm = BatchNorm1d(512)\n",
    "        self.linear2 = Linear(512,1024)\n",
    "        self.linear2batchnorm = BatchNorm1d(1024)\n",
    "        self.linear3 = Linear(1024,512)\n",
    "        self.linear3batchnorm = BatchNorm1d(512)\n",
    "        self.output = Linear(512,len(labels))\n",
    "    \n",
    "    def forward(self,X):\n",
    "        preds = self.max_pool2d(self.activation(self.conv1batchnorm(self.conv1(X))))\n",
    "        preds = self.max_pool2d(self.activation(self.conv2batchnorm(self.conv2(preds))))\n",
    "        preds = self.max_pool2d(self.activation(self.conv3batchnorm(self.conv3(preds))))\n",
    "        preds = self.max_pool2d(self.activation(self.conv4batchnorm(self.conv4(preds))))\n",
    "#         print(preds.shape)\n",
    "        preds = preds.view(-1,20*5*5)\n",
    "        preds = self.activation(self.linear1batchnorm(self.linear1(preds)))\n",
    "        preds = self.activation(self.linear2batchnorm(self.linear2(preds)))\n",
    "        preds = self.activation(self.linear3batchnorm(self.linear3(preds)))\n",
    "        preds = self.output(preds)\n",
    "        return preds"
   ]
  },
  {
   "cell_type": "code",
   "execution_count": 8,
   "id": "547258cd-201e-4a93-b0c3-409ca2ccd4a2",
   "metadata": {},
   "outputs": [],
   "source": [
    "model = Model().to(device)"
   ]
  },
  {
   "cell_type": "code",
   "execution_count": 9,
   "id": "4b6c6cc6-6333-43a1-9db6-f0a946a2d83b",
   "metadata": {},
   "outputs": [],
   "source": [
    "criterion = CrossEntropyLoss()"
   ]
  },
  {
   "cell_type": "code",
   "execution_count": 10,
   "id": "d8a6ebc2-dfa6-48bd-a120-641d975ffcb8",
   "metadata": {},
   "outputs": [],
   "source": [
    "from torch.optim import *"
   ]
  },
  {
   "cell_type": "code",
   "execution_count": 11,
   "id": "d22e5b92-04b1-4eb6-9357-2a428aa223a1",
   "metadata": {},
   "outputs": [],
   "source": [
    "optimizer = Adam(model.parameters(),lr=0.001)"
   ]
  },
  {
   "cell_type": "code",
   "execution_count": 20,
   "id": "9e7f3c62-37e5-4628-99bc-2d44c79a6fa3",
   "metadata": {},
   "outputs": [],
   "source": [
    "epochs = 1000"
   ]
  },
  {
   "cell_type": "code",
   "execution_count": 21,
   "id": "72bf97cf-7305-4a93-984a-14b19f3c78bf",
   "metadata": {},
   "outputs": [],
   "source": [
    "batch_size = 8"
   ]
  },
  {
   "cell_type": "code",
   "execution_count": null,
   "id": "0a7e27ed-e207-4731-bd5e-63df86d243a1",
   "metadata": {},
   "outputs": [
    {
     "data": {
      "text/html": [
       "\n",
       "                Tracking run with wandb version 0.12.1<br/>\n",
       "                Syncing run <strong style=\"color:#cdcd00\">baseline</strong> to <a href=\"https://wandb.ai\" target=\"_blank\">Weights & Biases</a> <a href=\"https://docs.wandb.com/integrations/jupyter.html\" target=\"_blank\">(Documentation)</a>.<br/>\n",
       "                Project page: <a href=\"https://wandb.ai/ranuga-d/Brain-Tumor-Classification\" target=\"_blank\">https://wandb.ai/ranuga-d/Brain-Tumor-Classification</a><br/>\n",
       "                Run page: <a href=\"https://wandb.ai/ranuga-d/Brain-Tumor-Classification/runs/18msosfp\" target=\"_blank\">https://wandb.ai/ranuga-d/Brain-Tumor-Classification/runs/18msosfp</a><br/>\n",
       "                Run data is saved locally in <code>/home/indika/Programming/Projects/Python/Artifical-Intelligence/PyTorch/CNN/Brain-Tumor-Classification/wandb/run-20210908_125244-18msosfp</code><br/><br/>\n",
       "            "
      ],
      "text/plain": [
       "<IPython.core.display.HTML object>"
      ]
     },
     "metadata": {},
     "output_type": "display_data"
    },
    {
     "name": "stderr",
     "output_type": "stream",
     "text": [
      " 40%|████████████████▏                       | 405/1000 [17:14<25:34,  2.58s/it]"
     ]
    }
   ],
   "source": [
    "wandb.init(project=PROJECT_NAME,name='baseline')\n",
    "wandb.watch(model)\n",
    "for _ in tqdm(range(epochs)):\n",
    "    for idx in range(0,len(X_train),batch_size):\n",
    "        X_batch = X_train[idx:idx+batch_size].view(-1,3,112,112).to(device).float()\n",
    "        y_batch = y_train[idx:idx+batch_size].to(device)\n",
    "        preds = model(X_batch)\n",
    "        loss = criterion(preds,y_batch)\n",
    "        optimizer.zero_grad()\n",
    "        loss.backward()\n",
    "        optimizer.step()\n",
    "    wandb.log({'Loss':(get_loss(model,X_train,y_train,criterion)+get_loss(model,X_batch,y_batch,criterion))/2})\n",
    "    wandb.log({'Val Loss':get_loss(model,X_test,y_test,criterion)})\n",
    "    wandb.log({'Acc':(get_accuracy(model,X_train,y_train)+get_accuracy(model,X_batch,y_batch))/2})\n",
    "    wandb.log({'Val ACC':get_accuracy(model,X_test,y_test)})\n",
    "wandb.watch(model)\n",
    "wandb.finish()"
   ]
  },
  {
   "cell_type": "code",
   "execution_count": null,
   "id": "7be1860f-4ee2-4e03-b9a8-0f539f31705f",
   "metadata": {},
   "outputs": [],
   "source": []
  }
 ],
 "metadata": {
  "kernelspec": {
   "display_name": "Python 3.7.3 64-bit ('base': conda)",
   "language": "python",
   "name": "python373jvsc74a57bd0210f9608a45c0278a93c9e0b10db32a427986ab48cfc0d20c139811eb78c4bbc"
  },
  "language_info": {
   "codemirror_mode": {
    "name": "ipython",
    "version": 3
   },
   "file_extension": ".py",
   "mimetype": "text/x-python",
   "name": "python",
   "nbconvert_exporter": "python",
   "pygments_lexer": "ipython3",
   "version": "3.7.11"
  }
 },
 "nbformat": 4,
 "nbformat_minor": 5
}
